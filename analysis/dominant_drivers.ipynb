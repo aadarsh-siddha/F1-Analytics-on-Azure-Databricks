{
 "cells": [
  {
   "cell_type": "code",
   "execution_count": 0,
   "metadata": {
    "application/vnd.databricks.v1+cell": {
     "cellMetadata": {
      "byteLimit": 2048000,
      "rowLimit": 10000
     },
     "inputWidgets": {},
     "nuid": "35c5dc16-211f-4003-a4e5-fb8ce1177c29",
     "showTitle": false,
     "tableResultSettingsMap": {},
     "title": ""
    }
   },
   "outputs": [],
   "source": [
    "SELECT driver_name, \n",
    "  COUNT(1) AS total_races,\n",
    "  SUM(calculated_points) AS total_points,\n",
    "  AVG(calculated_points) AS avg_points\n",
    " FROM f1_presentation.calculated_race_results\n",
    "WHERE race_year BETWEEN 2010 AND 2020\n",
    "GROUP BY driver_name\n",
    "HAVING total_races > 50\n",
    "ORDER BY avg_points DESC;"
   ]
  },
  {
   "cell_type": "code",
   "execution_count": 0,
   "metadata": {
    "application/vnd.databricks.v1+cell": {
     "cellMetadata": {
      "byteLimit": 2048000,
      "rowLimit": 10000
     },
     "inputWidgets": {},
     "nuid": "be116580-9577-45dd-b46e-3d7c6fa34b3f",
     "showTitle": false,
     "tableResultSettingsMap": {},
     "title": ""
    }
   },
   "outputs": [],
   "source": [
    "SELECT driver_name, \n",
    "  COUNT(1) AS total_races,\n",
    "  SUM(calculated_points) AS total_points,\n",
    "  AVG(calculated_points) AS avg_points\n",
    " FROM f1_presentation.calculated_race_results\n",
    "WHERE race_year BETWEEN 2001 AND 2010\n",
    "GROUP BY driver_name\n",
    "HAVING total_races > 50\n",
    "ORDER BY avg_points DESC;"
   ]
  }
 ],
 "metadata": {
  "application/vnd.databricks.v1+notebook": {
   "computePreferences": null,
   "dashboards": [],
   "environmentMetadata": {
    "base_environment": "",
    "environment_version": "2"
   },
   "inputWidgetPreferences": null,
   "language": "sql",
   "notebookMetadata": {},
   "notebookName": "dominant_drivers",
   "widgets": {}
  },
  "language_info": {
   "name": "sql"
  }
 },
 "nbformat": 4,
 "nbformat_minor": 0
}
