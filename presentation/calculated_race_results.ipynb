{
 "cells": [
  {
   "cell_type": "code",
   "execution_count": 0,
   "metadata": {
    "application/vnd.databricks.v1+cell": {
     "cellMetadata": {
      "byteLimit": 2048000,
      "rowLimit": 10000
     },
     "inputWidgets": {},
     "nuid": "c665f8e2-55f8-4752-99dc-4ef4953f19ce",
     "showTitle": false,
     "tableResultSettingsMap": {},
     "title": ""
    }
   },
   "outputs": [],
   "source": [
    "DROP TABLE IF EXISTS f1_presentation.calculated_race_results;"
   ]
  },
  {
   "cell_type": "code",
   "execution_count": 0,
   "metadata": {
    "application/vnd.databricks.v1+cell": {
     "cellMetadata": {
      "byteLimit": 2048000,
      "rowLimit": 10000
     },
     "inputWidgets": {},
     "nuid": "b80a047c-3d4c-4bee-9611-50bd589ed921",
     "showTitle": false,
     "tableResultSettingsMap": {},
     "title": ""
    }
   },
   "outputs": [],
   "source": [
    "CREATE TABLE f1_presentation.calculated_race_results\n",
    "USING parquet\n",
    "AS\n",
    "SELECT \n",
    "  results.result_id,\n",
    "  races.race_year,\n",
    "  results.race_id,\n",
    "  constructors.name AS team_name, \n",
    "  drivers.name AS driver_name, \n",
    "  results.position, \n",
    "  results.points,\n",
    "  (11 - results.position) AS calculated_points\n",
    "FROM f1_processed.results\n",
    "JOIN f1_processed.races ON (results.race_id = races.race_id)\n",
    "JOIN f1_processed.drivers ON (results.driver_id = drivers.driver_id)  \n",
    "JOIN f1_processed.constructors ON (results.constructor_id = constructors.constructor_id)\n",
    "WHERE results.position <= 10"
   ]
  }
 ],
 "metadata": {
  "application/vnd.databricks.v1+notebook": {
   "computePreferences": null,
   "dashboards": [],
   "environmentMetadata": {
    "base_environment": "",
    "environment_version": "2"
   },
   "inputWidgetPreferences": null,
   "language": "sql",
   "notebookMetadata": {
    "pythonIndentUnit": 4
   },
   "notebookName": "calculated_race_results",
   "widgets": {}
  },
  "language_info": {
   "name": "sql"
  }
 },
 "nbformat": 4,
 "nbformat_minor": 0
}
