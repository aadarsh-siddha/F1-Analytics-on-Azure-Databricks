{
 "cells": [
  {
   "cell_type": "code",
   "execution_count": 0,
   "metadata": {
    "application/vnd.databricks.v1+cell": {
     "cellMetadata": {
      "byteLimit": 2048000,
      "rowLimit": 10000
     },
     "inputWidgets": {},
     "nuid": "485eb452-f206-457b-bfcc-6804fa1a1944",
     "showTitle": false,
     "tableResultSettingsMap": {},
     "title": ""
    }
   },
   "outputs": [],
   "source": [
    "def apply_incremental_load(df, table_name, partition_column):\n",
    "\n",
    "    spark.conf.set(\"spark.sql.sources.partitionOverwriteMode\", \"dynamic\")\n",
    "\n",
    "    if spark.catalog.tableExists(table_name):\n",
    "        column_names = df.columns\n",
    "        column_names.remove(partition_column)\n",
    "        column_names.append(partition_column)\n",
    "        df_new = df.select(column_names)\n",
    "        df_new.write.mode(\"overwrite\").insertInto(table_name)\n",
    "    else:\n",
    "        df.write.mode(\"overwrite\").partitionBy(partition_column).format(\"parquet\").saveAsTable(table_name)"
   ]
  }
 ],
 "metadata": {
  "application/vnd.databricks.v1+notebook": {
   "computePreferences": null,
   "dashboards": [],
   "environmentMetadata": {
    "base_environment": "",
    "environment_version": "2"
   },
   "inputWidgetPreferences": null,
   "language": "python",
   "notebookMetadata": {
    "pythonIndentUnit": 4
   },
   "notebookName": "common_functions",
   "widgets": {}
  },
  "language_info": {
   "name": "python"
  }
 },
 "nbformat": 4,
 "nbformat_minor": 0
}
