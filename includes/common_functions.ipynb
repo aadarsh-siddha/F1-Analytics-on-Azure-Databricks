{
 "cells": [
  {
   "cell_type": "code",
   "execution_count": 0,
   "metadata": {
    "application/vnd.databricks.v1+cell": {
     "cellMetadata": {
      "byteLimit": 2048000,
      "rowLimit": 10000
     },
     "inputWidgets": {},
     "nuid": "485eb452-f206-457b-bfcc-6804fa1a1944",
     "showTitle": false,
     "tableResultSettingsMap": {},
     "title": ""
    }
   },
   "outputs": [],
   "source": [
    "def apply_incremental_load(df, table_name, partition_column):\n",
    "\n",
    "    spark.conf.set(\"spark.sql.sources.partitionOverwriteMode\", \"dynamic\")\n",
    "\n",
    "    if spark.catalog.tableExists(table_name):\n",
    "        column_names = df.columns\n",
    "        column_names.remove(partition_column)\n",
    "        column_names.append(partition_column)\n",
    "        df_new = df.select(column_names)\n",
    "        df_new.write.mode(\"overwrite\").insertInto(table_name)\n",
    "    else:\n",
    "        df.write.mode(\"overwrite\").partitionBy(partition_column).format(\"parquet\").saveAsTable(table_name)"
   ]
  },
  {
   "cell_type": "code",
   "execution_count": 0,
   "metadata": {
    "application/vnd.databricks.v1+cell": {
     "cellMetadata": {
      "byteLimit": 2048000,
      "rowLimit": 10000
     },
     "inputWidgets": {},
     "nuid": "f73ca904-d220-46ea-aeee-8fe5f888a922",
     "showTitle": false,
     "tableResultSettingsMap": {},
     "title": ""
    }
   },
   "outputs": [],
   "source": [
    "from delta.tables import DeltaTable\n",
    "\n",
    "def merge_delta_data(input_df, target_db_name, target_table_name, target_folder_path, merge_condition, partition_column):\n",
    "    spark.conf.set(\"spark.databricks.optimizer.dynamicPartitionPruning.enabled\", \"True\")\n",
    "\n",
    "    if spark.catalog.tableExists(f\"{target_db_name}.{target_table_name}\"):\n",
    "        delta_table = DeltaTable.forPath(spark, f\"{target_folder_path}/{target_table_name}\")\n",
    "\n",
    "        delta_table.alias(\"tgt\").merge(\n",
    "            input_df.alias(\"src\"),\n",
    "            merge_condition) \\\n",
    "            .whenNotMatchedInsertAll() \\\n",
    "            .whenMatchedUpdateAll() \\\n",
    "            .execute()\n",
    "    else:\n",
    "        input_df.write.mode(\"overwrite\").partitionBy(partition_column).format(\"delta\").saveAsTable(f\"{target_db_name}.{target_table_name}\")"
   ]
  }
 ],
 "metadata": {
  "application/vnd.databricks.v1+notebook": {
   "computePreferences": null,
   "dashboards": [],
   "environmentMetadata": {
    "base_environment": "",
    "environment_version": "2"
   },
   "inputWidgetPreferences": null,
   "language": "python",
   "notebookMetadata": {
    "pythonIndentUnit": 4
   },
   "notebookName": "common_functions",
   "widgets": {}
  },
  "language_info": {
   "name": "python"
  }
 },
 "nbformat": 4,
 "nbformat_minor": 0
}
