{
 "cells": [
  {
   "cell_type": "code",
   "execution_count": 0,
   "metadata": {
    "application/vnd.databricks.v1+cell": {
     "cellMetadata": {
      "byteLimit": 2048000,
      "rowLimit": 10000
     },
     "inputWidgets": {},
     "nuid": "fb035ed6-3481-455c-9eb0-9105a8388dea",
     "showTitle": false,
     "tableResultSettingsMap": {},
     "title": ""
    }
   },
   "outputs": [],
   "source": [
    "from pyspark.sql.functions import current_timestamp"
   ]
  },
  {
   "cell_type": "code",
   "execution_count": 0,
   "metadata": {
    "application/vnd.databricks.v1+cell": {
     "cellMetadata": {
      "byteLimit": 2048000,
      "rowLimit": 10000
     },
     "inputWidgets": {},
     "nuid": "c665f8e2-55f8-4752-99dc-4ef4953f19ce",
     "showTitle": false,
     "tableResultSettingsMap": {},
     "title": ""
    }
   },
   "outputs": [],
   "source": [
    "dbutils.widgets.text(\"p_file_date\", \"2021-03-28\")\n",
    "v_file_date = dbutils.widgets.get(\"p_file_date\")"
   ]
  },
  {
   "cell_type": "code",
   "execution_count": 0,
   "metadata": {
    "application/vnd.databricks.v1+cell": {
     "cellMetadata": {
      "byteLimit": 2048000,
      "rowLimit": 10000
     },
     "inputWidgets": {},
     "nuid": "1d6f552f-2043-42fd-81db-e83607f243a3",
     "showTitle": false,
     "tableResultSettingsMap": {},
     "title": ""
    }
   },
   "outputs": [],
   "source": [
    "spark.sql (\n",
    "    f\"\"\"\n",
    "        CREATE TABLE IF NOT EXISTS f1_presentation.calculated_race_results\n",
    "        (\n",
    "            race_year INTEGER,\n",
    "            team_name STRING, \n",
    "            driver_id INTEGER,\n",
    "            driver_name STRING, \n",
    "            race_id INTEGER, \n",
    "            position INTEGER, \n",
    "            points INTEGER,\n",
    "            calculated_points INTEGER,\n",
    "            created_date TIMESTAMP,\n",
    "            updated_date TIMESTAMP\n",
    "        )\n",
    "        USING DELTA\n",
    "    \"\"\"\n",
    ")"
   ]
  },
  {
   "cell_type": "code",
   "execution_count": 0,
   "metadata": {
    "application/vnd.databricks.v1+cell": {
     "cellMetadata": {
      "byteLimit": 2048000,
      "rowLimit": 10000
     },
     "inputWidgets": {},
     "nuid": "b80a047c-3d4c-4bee-9611-50bd589ed921",
     "showTitle": false,
     "tableResultSettingsMap": {},
     "title": ""
    }
   },
   "outputs": [],
   "source": [
    "spark.sql(\n",
    "        f\"\"\"\n",
    "            CREATE OR REPLACE TEMP VIEW race_result_updated\n",
    "            AS\n",
    "            SELECT \n",
    "            races.race_year,\n",
    "            constructors.name AS team_name,\n",
    "            drivers.driver_id,\n",
    "            drivers.name AS driver_name,\n",
    "            results.race_id,\n",
    "            results.position,\n",
    "            results.points,\n",
    "            (11 - results.position) AS calculated_points\n",
    "            FROM f1_processed.results\n",
    "            JOIN f1_processed.races ON (results.race_id = races.race_id)\n",
    "            JOIN f1_processed.drivers ON (results.driver_id = drivers.driver_id)  \n",
    "            JOIN f1_processed.constructors ON (results.constructor_id = constructors.constructor_id)\n",
    "            WHERE results.position <= 10 AND results.file_date = '{v_file_date}'\n",
    "\"\"\")"
   ]
  },
  {
   "cell_type": "code",
   "execution_count": 0,
   "metadata": {
    "application/vnd.databricks.v1+cell": {
     "cellMetadata": {
      "byteLimit": 2048000,
      "implicitDf": true,
      "rowLimit": 10000
     },
     "inputWidgets": {},
     "nuid": "27d0ba64-392d-40e1-ba0c-79dea67c37ba",
     "showTitle": false,
     "tableResultSettingsMap": {},
     "title": ""
    }
   },
   "outputs": [],
   "source": [
    "%sql\n",
    "MERGE INTO f1_presentation.calculated_race_results AS tgt\n",
    "USING race_result_updated AS src\n",
    "ON (tgt.driver_id = src.driver_id AND tgt.race_id = src.race_id)\n",
    "WHEN MATCHED THEN\n",
    "UPDATE SET\n",
    "  tgt.position = src.position,\n",
    "  tgt.points = src.points,\n",
    "  tgt.calculated_points = src.calculated_points,\n",
    "  tgt.updated_date = current_timestamp\n",
    "WHEN NOT MATCHED THEN \n",
    "INSERT (race_year, team_name, driver_id, driver_name, race_id, position, points, calculated_points, created_date)\n",
    "VALUES (race_year, team_name, driver_id, driver_name, race_id, position, points, calculated_points, current_timestamp)       "
   ]
  }
 ],
 "metadata": {
  "application/vnd.databricks.v1+notebook": {
   "computePreferences": null,
   "dashboards": [],
   "environmentMetadata": {
    "base_environment": "",
    "environment_version": "2"
   },
   "inputWidgetPreferences": null,
   "language": "python",
   "notebookMetadata": {
    "mostRecentlyExecutedCommandWithImplicitDF": {
     "commandId": 6365792261045251,
     "dataframes": [
      "_sqldf"
     ]
    },
    "pythonIndentUnit": 4
   },
   "notebookName": "calculated_race_results",
   "widgets": {
    "p_file_date": {
     "currentValue": "2021-04-18",
     "nuid": "060f7368-dda3-433e-b042-3a9242aa069e",
     "typedWidgetInfo": {
      "autoCreated": false,
      "defaultValue": "2021-03-28",
      "label": null,
      "name": "p_file_date",
      "options": {
       "widgetDisplayType": "Text",
       "validationRegex": null
      },
      "parameterDataType": "String"
     },
     "widgetInfo": {
      "widgetType": "text",
      "defaultValue": "2021-03-28",
      "label": null,
      "name": "p_file_date",
      "options": {
       "widgetType": "text",
       "autoCreated": null,
       "validationRegex": null
      }
     }
    }
   }
  },
  "language_info": {
   "name": "python"
  }
 },
 "nbformat": 4,
 "nbformat_minor": 0
}
