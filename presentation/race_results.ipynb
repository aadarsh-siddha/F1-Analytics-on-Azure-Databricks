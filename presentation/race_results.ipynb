{
 "cells": [
  {
   "cell_type": "code",
   "execution_count": 0,
   "metadata": {
    "application/vnd.databricks.v1+cell": {
     "cellMetadata": {
      "byteLimit": 2048000,
      "rowLimit": 10000
     },
     "inputWidgets": {},
     "nuid": "1496d03e-5297-4755-ad9c-b4ba474fee5a",
     "showTitle": false,
     "tableResultSettingsMap": {},
     "title": ""
    }
   },
   "outputs": [],
   "source": [
    "%run \"../includes/configuration\""
   ]
  },
  {
   "cell_type": "code",
   "execution_count": 0,
   "metadata": {
    "application/vnd.databricks.v1+cell": {
     "cellMetadata": {
      "byteLimit": 2048000,
      "rowLimit": 10000
     },
     "inputWidgets": {},
     "nuid": "2b62d9e6-d4b1-4316-a5c9-c2c619c656f4",
     "showTitle": false,
     "tableResultSettingsMap": {},
     "title": ""
    }
   },
   "outputs": [],
   "source": [
    "from pyspark.sql.functions import col, current_timestamp"
   ]
  },
  {
   "cell_type": "code",
   "execution_count": 0,
   "metadata": {
    "application/vnd.databricks.v1+cell": {
     "cellMetadata": {
      "byteLimit": 2048000,
      "rowLimit": 10000
     },
     "inputWidgets": {},
     "nuid": "bb2efdc1-e513-419c-96e4-a19f28344763",
     "showTitle": false,
     "tableResultSettingsMap": {},
     "title": ""
    }
   },
   "outputs": [],
   "source": [
    "df_races = spark.read.parquet(f\"{processed_folder_path}/races\").withColumnRenamed(\"name\", \"race_name\").withColumnRenamed(\"race_timestamp\", \"race_date\")"
   ]
  },
  {
   "cell_type": "code",
   "execution_count": 0,
   "metadata": {
    "application/vnd.databricks.v1+cell": {
     "cellMetadata": {
      "byteLimit": 2048000,
      "rowLimit": 10000
     },
     "inputWidgets": {},
     "nuid": "6eadaf00-f4d2-4a08-9cc8-cd3bc7c341db",
     "showTitle": false,
     "tableResultSettingsMap": {},
     "title": ""
    }
   },
   "outputs": [],
   "source": [
    "df_circuits = spark.read.parquet(f\"{processed_folder_path}/circuits\").withColumnRenamed(\"name\", \"circuit_name\")"
   ]
  },
  {
   "cell_type": "code",
   "execution_count": 0,
   "metadata": {
    "application/vnd.databricks.v1+cell": {
     "cellMetadata": {
      "byteLimit": 2048000,
      "rowLimit": 10000
     },
     "inputWidgets": {},
     "nuid": "97600bae-20cd-4c56-97bf-1fef5cc2487b",
     "showTitle": false,
     "tableResultSettingsMap": {},
     "title": ""
    }
   },
   "outputs": [],
   "source": [
    "df_drivers = spark.read.parquet(f\"{processed_folder_path}/drivers\")"
   ]
  },
  {
   "cell_type": "code",
   "execution_count": 0,
   "metadata": {
    "application/vnd.databricks.v1+cell": {
     "cellMetadata": {
      "byteLimit": 2048000,
      "rowLimit": 10000
     },
     "inputWidgets": {},
     "nuid": "aab595c2-316d-4ef1-9bf4-4d1063bf668f",
     "showTitle": false,
     "tableResultSettingsMap": {},
     "title": ""
    }
   },
   "outputs": [],
   "source": [
    "df_results = spark.read.parquet(f\"{processed_folder_path}/results\")"
   ]
  },
  {
   "cell_type": "code",
   "execution_count": 0,
   "metadata": {
    "application/vnd.databricks.v1+cell": {
     "cellMetadata": {
      "byteLimit": 2048000,
      "rowLimit": 10000
     },
     "inputWidgets": {},
     "nuid": "1489266b-41a3-4571-a564-aa40552e6ee2",
     "showTitle": false,
     "tableResultSettingsMap": {},
     "title": ""
    }
   },
   "outputs": [],
   "source": [
    "df_constructors = spark.read.parquet(f\"{processed_folder_path}/constructors\") \\\n",
    "    .select(col(\"constructor_id\").alias(\"c_id\"), col(\"name\").alias(\"team\"))"
   ]
  },
  {
   "cell_type": "code",
   "execution_count": 0,
   "metadata": {
    "application/vnd.databricks.v1+cell": {
     "cellMetadata": {
      "byteLimit": 2048000,
      "rowLimit": 10000
     },
     "inputWidgets": {},
     "nuid": "cb775404-812c-4ebe-9d32-7c2a0cc45182",
     "showTitle": false,
     "tableResultSettingsMap": {},
     "title": ""
    }
   },
   "outputs": [],
   "source": [
    "df_joined_races_circuits = df_races.join(df_circuits, df_races.circuit_id == df_circuits.circuit_id, \"inner\") \\\n",
    "    .select(df_races.race_id,df_races.race_year, df_races.race_name, df_races.race_date, df_circuits.location)"
   ]
  },
  {
   "cell_type": "code",
   "execution_count": 0,
   "metadata": {
    "application/vnd.databricks.v1+cell": {
     "cellMetadata": {
      "byteLimit": 2048000,
      "rowLimit": 10000
     },
     "inputWidgets": {},
     "nuid": "d59cb321-279a-4f9c-a696-354ddc740331",
     "showTitle": false,
     "tableResultSettingsMap": {},
     "title": ""
    }
   },
   "outputs": [],
   "source": [
    "df_joined_drivers_results = df_results.join(df_drivers, df_results.driver_id == df_drivers.driver_id, \"inner\") \\\n",
    "    .select(df_results.race_id, df_results.driver_id, df_results.constructor_id, df_results.grid, df_results.fastest_lap, df_results.time, df_results.points, df_drivers.name, df_drivers.number, df_drivers.nationality, df_results.position)"
   ]
  },
  {
   "cell_type": "code",
   "execution_count": 0,
   "metadata": {
    "application/vnd.databricks.v1+cell": {
     "cellMetadata": {
      "byteLimit": 2048000,
      "rowLimit": 10000
     },
     "inputWidgets": {},
     "nuid": "b0780d18-0490-46eb-98e8-aeb0b6329a1d",
     "showTitle": false,
     "tableResultSettingsMap": {},
     "title": ""
    }
   },
   "outputs": [],
   "source": [
    "df_joined_drivers_results = df_joined_drivers_results\\\n",
    "    .withColumnRenamed(\"name\", \"driver_name\")\\\n",
    "    .withColumnRenamed(\"number\", \"driver_number\")\\\n",
    "    .withColumnRenamed(\"nationality\", \"driver_nationality\")\\\n",
    "    .withColumnRenamed(\"time\", \"race_time\")"
   ]
  },
  {
   "cell_type": "code",
   "execution_count": 0,
   "metadata": {
    "application/vnd.databricks.v1+cell": {
     "cellMetadata": {
      "byteLimit": 2048000,
      "rowLimit": 10000
     },
     "inputWidgets": {},
     "nuid": "16d2bae4-0840-4209-a188-6b99b38ff05b",
     "showTitle": false,
     "tableResultSettingsMap": {},
     "title": ""
    }
   },
   "outputs": [],
   "source": [
    "df_drivers_results_constructors = df_joined_drivers_results\\\n",
    "    .join(df_constructors, df_joined_drivers_results.constructor_id == df_constructors.c_id, \"inner\")\\\n",
    "    .select([*df_joined_drivers_results.columns, 'team'])"
   ]
  },
  {
   "cell_type": "code",
   "execution_count": 0,
   "metadata": {
    "application/vnd.databricks.v1+cell": {
     "cellMetadata": {
      "byteLimit": 2048000,
      "rowLimit": 10000
     },
     "inputWidgets": {},
     "nuid": "acbd8fe6-8dbd-4064-a1dc-980fab53ea88",
     "showTitle": false,
     "tableResultSettingsMap": {},
     "title": ""
    }
   },
   "outputs": [],
   "source": [
    "df_final = df_joined_races_circuits.join(df_drivers_results_constructors, df_joined_races_circuits.race_id == df_drivers_results_constructors.race_id, \"inner\") \\\n",
    "    .withColumn(\"ingestion_date\", current_timestamp()) \\\n",
    "    .drop(df_joined_races_circuits.race_id)"
   ]
  },
  {
   "cell_type": "code",
   "execution_count": 0,
   "metadata": {
    "application/vnd.databricks.v1+cell": {
     "cellMetadata": {
      "byteLimit": 2048000,
      "rowLimit": 10000
     },
     "inputWidgets": {},
     "nuid": "b7866e2a-2898-4882-a43e-96166c2c8733",
     "showTitle": false,
     "tableResultSettingsMap": {},
     "title": ""
    }
   },
   "outputs": [],
   "source": [
    "df_final.write.mode(\"overwrite\").format(\"parquet\").saveAsTable(\"f1_presentation.race_results\")"
   ]
  }
 ],
 "metadata": {
  "application/vnd.databricks.v1+notebook": {
   "computePreferences": null,
   "dashboards": [],
   "environmentMetadata": {
    "base_environment": "",
    "environment_version": "2"
   },
   "inputWidgetPreferences": null,
   "language": "python",
   "notebookMetadata": {
    "pythonIndentUnit": 4
   },
   "notebookName": "race_results",
   "widgets": {}
  },
  "language_info": {
   "name": "python"
  }
 },
 "nbformat": 4,
 "nbformat_minor": 0
}
