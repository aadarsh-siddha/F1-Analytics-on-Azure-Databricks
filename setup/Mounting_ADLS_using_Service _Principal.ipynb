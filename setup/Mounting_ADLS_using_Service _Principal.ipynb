{
 "cells": [
  {
   "cell_type": "markdown",
   "metadata": {
    "application/vnd.databricks.v1+cell": {
     "cellMetadata": {
      "byteLimit": 2048000,
      "rowLimit": 10000
     },
     "inputWidgets": {},
     "nuid": "708a201d-c86b-4314-91ec-750c3b20d743",
     "showTitle": false,
     "tableResultSettingsMap": {},
     "title": ""
    }
   },
   "source": [
    "# Mounting Azure Data Lake Gen2 Storage(ADLS) using Service Principal\n",
    "\n",
    "## Steps:\n",
    "1. Get client-id, tenant-id, client-key from secret scope\n",
    "2. Set Spark Config\n",
    "3. Call File System Utility Mount to mount Storage"
   ]
  },
  {
   "cell_type": "code",
   "execution_count": 0,
   "metadata": {
    "application/vnd.databricks.v1+cell": {
     "cellMetadata": {
      "byteLimit": 2048000,
      "rowLimit": 10000
     },
     "inputWidgets": {},
     "nuid": "bf5a72b4-fc14-4b83-b3b0-af344df4b270",
     "showTitle": false,
     "tableResultSettingsMap": {},
     "title": ""
    }
   },
   "outputs": [],
   "source": [
    "def mount_adls_storage(storage_name, container_name):\n",
    "    client_id = dbutils.secrets.get(scope=\"formulaone-scope\",key=\"client-id\")\n",
    "    client_key = dbutils.secrets.get(scope=\"formulaone-scope\",key=\"client-secret\")\n",
    "    tenant_id = dbutils.secrets.get(scope=\"formulaone-scope\",key=\"tenant-id\")\n",
    "\n",
    "    configs = {\"fs.azure.account.auth.type\": \"OAuth\",\n",
    "        \"fs.azure.account.oauth.provider.type\": \"org.apache.hadoop.fs.azurebfs.oauth2.ClientCredsTokenProvider\",\n",
    "        \"fs.azure.account.oauth2.client.id\": client_id,\n",
    "        \"fs.azure.account.oauth2.client.secret\": client_key,\n",
    "        \"fs.azure.account.oauth2.client.endpoint\": f\"https://login.microsoftonline.com/{tenant_id}/oauth2/token\"}\n",
    "    \n",
    "    if any(mount.mountPoint == f\"/mnt/{storage_name}/{container_name}\" for mount in dbutils.fs.mounts()):\n",
    "        dbutils.fs.unmount(f\"/mnt/{storage_name}/{container_name}\")\n",
    "\n",
    "    dbutils.fs.mount(\n",
    "        source = f\"abfss://{container_name}@{storage_name}.dfs.core.windows.net/\",\n",
    "        mount_point = f\"/mnt/{storage_name}/{container_name}\",\n",
    "        extra_configs = configs)\n",
    "    \n",
    "    display(dbutils.fs.mounts())"
   ]
  },
  {
   "cell_type": "code",
   "execution_count": 0,
   "metadata": {
    "application/vnd.databricks.v1+cell": {
     "cellMetadata": {
      "byteLimit": 2048000,
      "rowLimit": 10000
     },
     "inputWidgets": {},
     "nuid": "e6b8c45c-d283-4f30-98d9-21d2e2e5b74f",
     "showTitle": false,
     "tableResultSettingsMap": {},
     "title": ""
    }
   },
   "outputs": [],
   "source": [
    "mount_adls_storage(\"formula1datalake280199\", \"raw\")"
   ]
  },
  {
   "cell_type": "code",
   "execution_count": 0,
   "metadata": {
    "application/vnd.databricks.v1+cell": {
     "cellMetadata": {
      "byteLimit": 2048000,
      "rowLimit": 10000
     },
     "inputWidgets": {},
     "nuid": "1beb9ae4-4cd9-46b2-97d6-8c25a34b14e8",
     "showTitle": false,
     "tableResultSettingsMap": {},
     "title": ""
    }
   },
   "outputs": [],
   "source": [
    "mount_adls_storage(\"formula1datalake280199\", \"processed\")"
   ]
  },
  {
   "cell_type": "code",
   "execution_count": 0,
   "metadata": {
    "application/vnd.databricks.v1+cell": {
     "cellMetadata": {
      "byteLimit": 2048000,
      "rowLimit": 10000
     },
     "inputWidgets": {},
     "nuid": "f47f43b6-2dd6-4945-a88c-30d3f3bff2bf",
     "showTitle": false,
     "tableResultSettingsMap": {},
     "title": ""
    }
   },
   "outputs": [],
   "source": [
    "mount_adls_storage(\"formula1datalake280199\", \"presentation\")"
   ]
  }
 ],
 "metadata": {
  "application/vnd.databricks.v1+notebook": {
   "computePreferences": null,
   "dashboards": [],
   "environmentMetadata": {
    "base_environment": "",
    "environment_version": "2"
   },
   "inputWidgetPreferences": null,
   "language": "python",
   "notebookMetadata": {
    "pythonIndentUnit": 4
   },
   "notebookName": "Mounting_ADLS_using_Service _Principal",
   "widgets": {}
  },
  "language_info": {
   "name": "python"
  }
 },
 "nbformat": 4,
 "nbformat_minor": 0
}
